{
 "cells": [
  {
   "cell_type": "code",
   "execution_count": 1,
   "metadata": {},
   "outputs": [],
   "source": [
    "import pandas as pd\n",
    "import numpy as np\n",
    "import argparse\n",
    "#from tqdm import tqdm\n",
    "\n",
    "import streamlit as st\n",
    "import plotly.graph_objects as go\n",
    "from plotly.subplots import make_subplots\n",
    "from plotly import tools\n",
    "import plotly.offline as py\n",
    "import plotly.express as px\n",
    "\n",
    "import os#, time\n",
    "import PIL.Image\n",
    "from utils import *"
   ]
  },
  {
   "cell_type": "code",
   "execution_count": 2,
   "metadata": {},
   "outputs": [],
   "source": [
    "data_wallet = pd.read_csv('rich_wallet.csv')\n",
    "data_wallet['timestamp_date'] = data_wallet['timestamp'].map(lambda x: str(x).split(' ')[0])\n",
    "\n",
    "btc_data = pd.read_csv('BTC_price.csv')\n",
    "btc_data = btc_data[btc_data['Date']>=data_wallet['timestamp_date'].min()]"
   ]
  },
  {
   "cell_type": "code",
   "execution_count": 3,
   "metadata": {},
   "outputs": [
    {
     "name": "stderr",
     "output_type": "stream",
     "text": [
      "2021-08-08 13:14:09.489 INFO    numexpr.utils: NumExpr defaulting to 8 threads.\n"
     ]
    }
   ],
   "source": [
    "def get_final(x):\n",
    "    x = x[0]\n",
    "    return x\n",
    "\n",
    "data = data_wallet.groupby('timestamp_date').agg(\n",
    "    {'Amount': 'sum', 'Realized price': 'mean', 'Balance': 'first'}\n",
    ").reset_index(drop=False)\n",
    "data['Balance USD'] = data['Balance'] * data['Realized price']\n",
    "data = data.dropna()\n",
    "data['timestamp_date'] = pd.DatetimeIndex(data['timestamp_date'])"
   ]
  },
  {
   "cell_type": "code",
   "execution_count": 42,
   "metadata": {
    "scrolled": true
   },
   "outputs": [],
   "source": [
    "from datetime import datetime\n",
    "def process(row):\n",
    "    date = \"{}-{}-1\".format(row.split('-')[0], row.split('-')[1])\n",
    "    dt = datetime.strptime(date, \"%Y-%W-%w\")\n",
    "    return dt.strftime(\"%Y-%m-%d\")#[:-3] + 'Z'"
   ]
  },
  {
   "cell_type": "code",
   "execution_count": 46,
   "metadata": {
    "scrolled": true
   },
   "outputs": [
    {
     "data": {
      "text/html": [
       "<div>\n",
       "<style scoped>\n",
       "    .dataframe tbody tr th:only-of-type {\n",
       "        vertical-align: middle;\n",
       "    }\n",
       "\n",
       "    .dataframe tbody tr th {\n",
       "        vertical-align: top;\n",
       "    }\n",
       "\n",
       "    .dataframe thead th {\n",
       "        text-align: right;\n",
       "    }\n",
       "</style>\n",
       "<table border=\"1\" class=\"dataframe\">\n",
       "  <thead>\n",
       "    <tr style=\"text-align: right;\">\n",
       "      <th></th>\n",
       "      <th>timestamp_date</th>\n",
       "      <th>Amount</th>\n",
       "      <th>Realized price</th>\n",
       "      <th>Balance</th>\n",
       "      <th>Balance USD</th>\n",
       "    </tr>\n",
       "  </thead>\n",
       "  <tbody>\n",
       "    <tr>\n",
       "      <th>0</th>\n",
       "      <td>2019-12-09</td>\n",
       "      <td>379.000000</td>\n",
       "      <td>14515.120000</td>\n",
       "      <td>67314.326008</td>\n",
       "      <td>4.885298e+08</td>\n",
       "    </tr>\n",
       "    <tr>\n",
       "      <th>1</th>\n",
       "      <td>2019-12-16</td>\n",
       "      <td>1452.997182</td>\n",
       "      <td>13872.673333</td>\n",
       "      <td>69877.323191</td>\n",
       "      <td>4.849206e+08</td>\n",
       "    </tr>\n",
       "    <tr>\n",
       "      <th>2</th>\n",
       "      <td>2020-01-13</td>\n",
       "      <td>-3000.002000</td>\n",
       "      <td>8796.570000</td>\n",
       "      <td>32274.658187</td>\n",
       "      <td>2.839063e+08</td>\n",
       "    </tr>\n",
       "    <tr>\n",
       "      <th>3</th>\n",
       "      <td>2020-02-10</td>\n",
       "      <td>107.000000</td>\n",
       "      <td>9918.340000</td>\n",
       "      <td>32381.658187</td>\n",
       "      <td>3.211723e+08</td>\n",
       "    </tr>\n",
       "    <tr>\n",
       "      <th>4</th>\n",
       "      <td>2020-02-17</td>\n",
       "      <td>1575.000000</td>\n",
       "      <td>48888.200000</td>\n",
       "      <td>165623.290933</td>\n",
       "      <td>1.619225e+09</td>\n",
       "    </tr>\n",
       "    <tr>\n",
       "      <th>...</th>\n",
       "      <td>...</td>\n",
       "      <td>...</td>\n",
       "      <td>...</td>\n",
       "      <td>...</td>\n",
       "      <td>...</td>\n",
       "    </tr>\n",
       "    <tr>\n",
       "      <th>66</th>\n",
       "      <td>2021-07-05</td>\n",
       "      <td>386.000690</td>\n",
       "      <td>67311.020000</td>\n",
       "      <td>231997.243323</td>\n",
       "      <td>7.807986e+09</td>\n",
       "    </tr>\n",
       "    <tr>\n",
       "      <th>67</th>\n",
       "      <td>2021-07-12</td>\n",
       "      <td>465.000865</td>\n",
       "      <td>159838.713333</td>\n",
       "      <td>581723.110929</td>\n",
       "      <td>1.859620e+10</td>\n",
       "    </tr>\n",
       "    <tr>\n",
       "      <th>68</th>\n",
       "      <td>2021-07-19</td>\n",
       "      <td>378.000913</td>\n",
       "      <td>93266.880000</td>\n",
       "      <td>349924.870230</td>\n",
       "      <td>1.087897e+10</td>\n",
       "    </tr>\n",
       "    <tr>\n",
       "      <th>69</th>\n",
       "      <td>2021-07-26</td>\n",
       "      <td>-3000.008704</td>\n",
       "      <td>118267.330000</td>\n",
       "      <td>341524.843059</td>\n",
       "      <td>1.346374e+10</td>\n",
       "    </tr>\n",
       "    <tr>\n",
       "      <th>70</th>\n",
       "      <td>2021-08-02</td>\n",
       "      <td>-3000.010000</td>\n",
       "      <td>42729.260000</td>\n",
       "      <td>110841.605082</td>\n",
       "      <td>4.736180e+09</td>\n",
       "    </tr>\n",
       "  </tbody>\n",
       "</table>\n",
       "<p>63 rows × 5 columns</p>\n",
       "</div>"
      ],
      "text/plain": [
       "   timestamp_date       Amount  Realized price        Balance   Balance USD\n",
       "0      2019-12-09   379.000000    14515.120000   67314.326008  4.885298e+08\n",
       "1      2019-12-16  1452.997182    13872.673333   69877.323191  4.849206e+08\n",
       "2      2020-01-13 -3000.002000     8796.570000   32274.658187  2.839063e+08\n",
       "3      2020-02-10   107.000000     9918.340000   32381.658187  3.211723e+08\n",
       "4      2020-02-17  1575.000000    48888.200000  165623.290933  1.619225e+09\n",
       "..            ...          ...             ...            ...           ...\n",
       "66     2021-07-05   386.000690    67311.020000  231997.243323  7.807986e+09\n",
       "67     2021-07-12   465.000865   159838.713333  581723.110929  1.859620e+10\n",
       "68     2021-07-19   378.000913    93266.880000  349924.870230  1.087897e+10\n",
       "69     2021-07-26 -3000.008704   118267.330000  341524.843059  1.346374e+10\n",
       "70     2021-08-02 -3000.010000    42729.260000  110841.605082  4.736180e+09\n",
       "\n",
       "[63 rows x 5 columns]"
      ]
     },
     "execution_count": 46,
     "metadata": {},
     "output_type": "execute_result"
    }
   ],
   "source": [
    "data_diff = data.copy()\n",
    "data_diff['timestamp_date'] = data_diff['timestamp_date'].dt.strftime('%Y-%W')\n",
    "data_diff['timestamp_date'] = data_diff['timestamp_date'].map(lambda x: process(x))\n",
    "data_diff = data_diff.groupby('timestamp_date').sum().reset_index(drop=False)\n",
    "data_diff = data_diff[(data_diff['Amount']>=0.1) | (data_diff['Amount']<=-0.1)]\n",
    "data_diff"
   ]
  },
  {
   "cell_type": "code",
   "execution_count": 18,
   "metadata": {
    "scrolled": true
   },
   "outputs": [
    {
     "name": "stderr",
     "output_type": "stream",
     "text": [
      "<ipython-input-18-217745637975>:3: SettingWithCopyWarning:\n",
      "\n",
      "\n",
      "A value is trying to be set on a copy of a slice from a DataFrame.\n",
      "Try using .loc[row_indexer,col_indexer] = value instead\n",
      "\n",
      "See the caveats in the documentation: https://pandas.pydata.org/pandas-docs/stable/user_guide/indexing.html#returning-a-view-versus-a-copy\n",
      "\n"
     ]
    },
    {
     "data": {
      "text/html": [
       "<div>\n",
       "<style scoped>\n",
       "    .dataframe tbody tr th:only-of-type {\n",
       "        vertical-align: middle;\n",
       "    }\n",
       "\n",
       "    .dataframe tbody tr th {\n",
       "        vertical-align: top;\n",
       "    }\n",
       "\n",
       "    .dataframe thead th {\n",
       "        text-align: right;\n",
       "    }\n",
       "</style>\n",
       "<table border=\"1\" class=\"dataframe\">\n",
       "  <thead>\n",
       "    <tr style=\"text-align: right;\">\n",
       "      <th></th>\n",
       "      <th>timestamp_date</th>\n",
       "      <th>current_loan</th>\n",
       "      <th>loan_ceil</th>\n",
       "      <th>utilization</th>\n",
       "      <th>amount_coin_locked</th>\n",
       "    </tr>\n",
       "  </thead>\n",
       "  <tbody>\n",
       "    <tr>\n",
       "      <th>0</th>\n",
       "      <td>7/25/2021</td>\n",
       "      <td>1.398362e+09</td>\n",
       "      <td>1.485681e+09</td>\n",
       "      <td>0.9412</td>\n",
       "      <td>2022905.0</td>\n",
       "    </tr>\n",
       "    <tr>\n",
       "      <th>1</th>\n",
       "      <td>7/26/2021</td>\n",
       "      <td>1.384027e+09</td>\n",
       "      <td>1.494187e+09</td>\n",
       "      <td>0.9263</td>\n",
       "      <td>2010353.0</td>\n",
       "    </tr>\n",
       "    <tr>\n",
       "      <th>2</th>\n",
       "      <td>7/27/2021</td>\n",
       "      <td>3.175564e+07</td>\n",
       "      <td>4.199890e+07</td>\n",
       "      <td>0.7561</td>\n",
       "      <td>26904.0</td>\n",
       "    </tr>\n",
       "    <tr>\n",
       "      <th>3</th>\n",
       "      <td>7/28/2021</td>\n",
       "      <td>1.386380e+09</td>\n",
       "      <td>1.486358e+09</td>\n",
       "      <td>0.9327</td>\n",
       "      <td>2011853.0</td>\n",
       "    </tr>\n",
       "    <tr>\n",
       "      <th>4</th>\n",
       "      <td>7/29/2021</td>\n",
       "      <td>1.386044e+09</td>\n",
       "      <td>1.486853e+09</td>\n",
       "      <td>0.9322</td>\n",
       "      <td>2011921.0</td>\n",
       "    </tr>\n",
       "    <tr>\n",
       "      <th>5</th>\n",
       "      <td>7/30/2021</td>\n",
       "      <td>1.387373e+09</td>\n",
       "      <td>1.487394e+09</td>\n",
       "      <td>0.9328</td>\n",
       "      <td>2011593.0</td>\n",
       "    </tr>\n",
       "    <tr>\n",
       "      <th>6</th>\n",
       "      <td>7/31/2021</td>\n",
       "      <td>3.170931e+07</td>\n",
       "      <td>4.170931e+07</td>\n",
       "      <td>0.7602</td>\n",
       "      <td>25950.0</td>\n",
       "    </tr>\n",
       "    <tr>\n",
       "      <th>7</th>\n",
       "      <td>8/1/2021</td>\n",
       "      <td>1.403172e+09</td>\n",
       "      <td>1.496167e+09</td>\n",
       "      <td>0.9378</td>\n",
       "      <td>2013028.0</td>\n",
       "    </tr>\n",
       "    <tr>\n",
       "      <th>8</th>\n",
       "      <td>8/2/2021</td>\n",
       "      <td>1.406365e+09</td>\n",
       "      <td>1.500965e+09</td>\n",
       "      <td>0.9370</td>\n",
       "      <td>2009682.0</td>\n",
       "    </tr>\n",
       "    <tr>\n",
       "      <th>9</th>\n",
       "      <td>8/3/2021</td>\n",
       "      <td>3.195016e+07</td>\n",
       "      <td>4.199543e+07</td>\n",
       "      <td>0.7608</td>\n",
       "      <td>26115.0</td>\n",
       "    </tr>\n",
       "    <tr>\n",
       "      <th>10</th>\n",
       "      <td>8/4/2021</td>\n",
       "      <td>1.408071e+09</td>\n",
       "      <td>1.507541e+09</td>\n",
       "      <td>0.9340</td>\n",
       "      <td>1958267.0</td>\n",
       "    </tr>\n",
       "    <tr>\n",
       "      <th>11</th>\n",
       "      <td>8/5/2021</td>\n",
       "      <td>1.414157e+09</td>\n",
       "      <td>1.513952e+09</td>\n",
       "      <td>0.9341</td>\n",
       "      <td>1961000.0</td>\n",
       "    </tr>\n",
       "    <tr>\n",
       "      <th>12</th>\n",
       "      <td>8/6/2021</td>\n",
       "      <td>1.423895e+09</td>\n",
       "      <td>1.524614e+09</td>\n",
       "      <td>0.9339</td>\n",
       "      <td>1950552.0</td>\n",
       "    </tr>\n",
       "    <tr>\n",
       "      <th>13</th>\n",
       "      <td>8/7/2021</td>\n",
       "      <td>1.436407e+09</td>\n",
       "      <td>1.526535e+09</td>\n",
       "      <td>0.9410</td>\n",
       "      <td>1915720.0</td>\n",
       "    </tr>\n",
       "    <tr>\n",
       "      <th>14</th>\n",
       "      <td>8/8/2021</td>\n",
       "      <td>1.442084e+09</td>\n",
       "      <td>1.541645e+09</td>\n",
       "      <td>0.9354</td>\n",
       "      <td>1911423.0</td>\n",
       "    </tr>\n",
       "  </tbody>\n",
       "</table>\n",
       "</div>"
      ],
      "text/plain": [
       "   timestamp_date  current_loan     loan_ceil  utilization  amount_coin_locked\n",
       "0       7/25/2021  1.398362e+09  1.485681e+09       0.9412           2022905.0\n",
       "1       7/26/2021  1.384027e+09  1.494187e+09       0.9263           2010353.0\n",
       "2       7/27/2021  3.175564e+07  4.199890e+07       0.7561             26904.0\n",
       "3       7/28/2021  1.386380e+09  1.486358e+09       0.9327           2011853.0\n",
       "4       7/29/2021  1.386044e+09  1.486853e+09       0.9322           2011921.0\n",
       "5       7/30/2021  1.387373e+09  1.487394e+09       0.9328           2011593.0\n",
       "6       7/31/2021  3.170931e+07  4.170931e+07       0.7602             25950.0\n",
       "7        8/1/2021  1.403172e+09  1.496167e+09       0.9378           2013028.0\n",
       "8        8/2/2021  1.406365e+09  1.500965e+09       0.9370           2009682.0\n",
       "9        8/3/2021  3.195016e+07  4.199543e+07       0.7608             26115.0\n",
       "10       8/4/2021  1.408071e+09  1.507541e+09       0.9340           1958267.0\n",
       "11       8/5/2021  1.414157e+09  1.513952e+09       0.9341           1961000.0\n",
       "12       8/6/2021  1.423895e+09  1.524614e+09       0.9339           1950552.0\n",
       "13       8/7/2021  1.436407e+09  1.526535e+09       0.9410           1915720.0\n",
       "14       8/8/2021  1.442084e+09  1.541645e+09       0.9354           1911423.0"
      ]
     },
     "execution_count": 18,
     "metadata": {},
     "output_type": "execute_result"
    }
   ],
   "source": [
    "data = pd.read_csv('daistats_data.csv')\n",
    "vault_df = data[data['vault_name'].isin(['ETH-A', 'ETH-B'])]\n",
    "vault_df['timestamp_date'] = vault_df['timestamp'].map(lambda x: str(x).split(' ')[0])\n",
    "vault_df= vault_df.sort_values(by = 'timestamp').groupby('timestamp_date').first().reset_index()\n",
    "#vault_df = vault_df.groupby(['vault_name','timestamp_date']).mean().reset_index(drop=False)\n",
    "vault_df = vault_df.groupby('timestamp_date').sum().reset_index(drop=False)\n",
    "vault_df"
   ]
  },
  {
   "cell_type": "code",
   "execution_count": 20,
   "metadata": {},
   "outputs": [
    {
     "name": "stderr",
     "output_type": "stream",
     "text": [
      "<ipython-input-20-84894ce61557>:3: SettingWithCopyWarning:\n",
      "\n",
      "\n",
      "A value is trying to be set on a copy of a slice from a DataFrame.\n",
      "Try using .loc[row_indexer,col_indexer] = value instead\n",
      "\n",
      "See the caveats in the documentation: https://pandas.pydata.org/pandas-docs/stable/user_guide/indexing.html#returning-a-view-versus-a-copy\n",
      "\n"
     ]
    },
    {
     "data": {
      "text/html": [
       "<div>\n",
       "<style scoped>\n",
       "    .dataframe tbody tr th:only-of-type {\n",
       "        vertical-align: middle;\n",
       "    }\n",
       "\n",
       "    .dataframe tbody tr th {\n",
       "        vertical-align: top;\n",
       "    }\n",
       "\n",
       "    .dataframe thead th {\n",
       "        text-align: right;\n",
       "    }\n",
       "</style>\n",
       "<table border=\"1\" class=\"dataframe\">\n",
       "  <thead>\n",
       "    <tr style=\"text-align: right;\">\n",
       "      <th></th>\n",
       "      <th>timestamp_date</th>\n",
       "      <th>vault_name</th>\n",
       "      <th>current_loan</th>\n",
       "      <th>loan_ceil</th>\n",
       "      <th>timestamp</th>\n",
       "      <th>utilization</th>\n",
       "      <th>fee</th>\n",
       "      <th>amount_coin_locked</th>\n",
       "    </tr>\n",
       "  </thead>\n",
       "  <tbody>\n",
       "    <tr>\n",
       "      <th>0</th>\n",
       "      <td>7/25/2021</td>\n",
       "      <td>ETH-A</td>\n",
       "      <td>1.398362e+09</td>\n",
       "      <td>1.485681e+09</td>\n",
       "      <td>7/25/2021 10:42:42 AM</td>\n",
       "      <td>0.9412</td>\n",
       "      <td>2.00%</td>\n",
       "      <td>2022905.0</td>\n",
       "    </tr>\n",
       "    <tr>\n",
       "      <th>1</th>\n",
       "      <td>7/26/2021</td>\n",
       "      <td>ETH-A</td>\n",
       "      <td>1.384027e+09</td>\n",
       "      <td>1.494187e+09</td>\n",
       "      <td>7/26/2021 6:39:50 PM</td>\n",
       "      <td>0.9263</td>\n",
       "      <td>2.00%</td>\n",
       "      <td>2010353.0</td>\n",
       "    </tr>\n",
       "    <tr>\n",
       "      <th>2</th>\n",
       "      <td>7/27/2021</td>\n",
       "      <td>ETH-B</td>\n",
       "      <td>3.175564e+07</td>\n",
       "      <td>4.199890e+07</td>\n",
       "      <td>7/27/2021 10:43:43 AM</td>\n",
       "      <td>0.7561</td>\n",
       "      <td>6.00%</td>\n",
       "      <td>26904.0</td>\n",
       "    </tr>\n",
       "    <tr>\n",
       "      <th>3</th>\n",
       "      <td>7/28/2021</td>\n",
       "      <td>ETH-A</td>\n",
       "      <td>1.386380e+09</td>\n",
       "      <td>1.486358e+09</td>\n",
       "      <td>7/28/2021 10:44:55 AM</td>\n",
       "      <td>0.9327</td>\n",
       "      <td>2.00%</td>\n",
       "      <td>2011853.0</td>\n",
       "    </tr>\n",
       "    <tr>\n",
       "      <th>4</th>\n",
       "      <td>7/29/2021</td>\n",
       "      <td>ETH-A</td>\n",
       "      <td>1.386044e+09</td>\n",
       "      <td>1.486853e+09</td>\n",
       "      <td>7/29/2021 2:39:53 AM</td>\n",
       "      <td>0.9322</td>\n",
       "      <td>2.00%</td>\n",
       "      <td>2011921.0</td>\n",
       "    </tr>\n",
       "    <tr>\n",
       "      <th>5</th>\n",
       "      <td>7/30/2021</td>\n",
       "      <td>ETH-A</td>\n",
       "      <td>1.387373e+09</td>\n",
       "      <td>1.487394e+09</td>\n",
       "      <td>7/30/2021 10:43:04 AM</td>\n",
       "      <td>0.9328</td>\n",
       "      <td>2.00%</td>\n",
       "      <td>2011593.0</td>\n",
       "    </tr>\n",
       "    <tr>\n",
       "      <th>6</th>\n",
       "      <td>7/31/2021</td>\n",
       "      <td>ETH-B</td>\n",
       "      <td>3.170931e+07</td>\n",
       "      <td>4.170931e+07</td>\n",
       "      <td>7/31/2021 2:41:39 AM</td>\n",
       "      <td>0.7602</td>\n",
       "      <td>6.00%</td>\n",
       "      <td>25950.0</td>\n",
       "    </tr>\n",
       "    <tr>\n",
       "      <th>7</th>\n",
       "      <td>8/1/2021</td>\n",
       "      <td>ETH-A</td>\n",
       "      <td>1.403172e+09</td>\n",
       "      <td>1.496167e+09</td>\n",
       "      <td>8/1/2021 10:40:22 AM</td>\n",
       "      <td>0.9378</td>\n",
       "      <td>2.00%</td>\n",
       "      <td>2013028.0</td>\n",
       "    </tr>\n",
       "    <tr>\n",
       "      <th>8</th>\n",
       "      <td>8/2/2021</td>\n",
       "      <td>ETH-A</td>\n",
       "      <td>1.406365e+09</td>\n",
       "      <td>1.500965e+09</td>\n",
       "      <td>8/2/2021 2:45:40 AM</td>\n",
       "      <td>0.9370</td>\n",
       "      <td>2.00%</td>\n",
       "      <td>2009682.0</td>\n",
       "    </tr>\n",
       "    <tr>\n",
       "      <th>9</th>\n",
       "      <td>8/3/2021</td>\n",
       "      <td>ETH-B</td>\n",
       "      <td>3.195016e+07</td>\n",
       "      <td>4.199543e+07</td>\n",
       "      <td>8/3/2021 10:48:54 AM</td>\n",
       "      <td>0.7608</td>\n",
       "      <td>6.00%</td>\n",
       "      <td>26115.0</td>\n",
       "    </tr>\n",
       "    <tr>\n",
       "      <th>10</th>\n",
       "      <td>8/4/2021</td>\n",
       "      <td>ETH-A</td>\n",
       "      <td>1.408071e+09</td>\n",
       "      <td>1.507541e+09</td>\n",
       "      <td>8/4/2021 2:39:55 AM</td>\n",
       "      <td>0.9340</td>\n",
       "      <td>2.00%</td>\n",
       "      <td>1958267.0</td>\n",
       "    </tr>\n",
       "    <tr>\n",
       "      <th>11</th>\n",
       "      <td>8/5/2021</td>\n",
       "      <td>ETH-A</td>\n",
       "      <td>1.414157e+09</td>\n",
       "      <td>1.513952e+09</td>\n",
       "      <td>8/5/2021 10:48:52 AM</td>\n",
       "      <td>0.9341</td>\n",
       "      <td>2.00%</td>\n",
       "      <td>1961000.0</td>\n",
       "    </tr>\n",
       "    <tr>\n",
       "      <th>12</th>\n",
       "      <td>8/6/2021</td>\n",
       "      <td>ETH-A</td>\n",
       "      <td>1.423895e+09</td>\n",
       "      <td>1.524614e+09</td>\n",
       "      <td>8/6/2021 10:39:48 AM</td>\n",
       "      <td>0.9339</td>\n",
       "      <td>2.00%</td>\n",
       "      <td>1950552.0</td>\n",
       "    </tr>\n",
       "    <tr>\n",
       "      <th>13</th>\n",
       "      <td>8/7/2021</td>\n",
       "      <td>ETH-A</td>\n",
       "      <td>1.436407e+09</td>\n",
       "      <td>1.526535e+09</td>\n",
       "      <td>8/7/2021 2:41:45 AM</td>\n",
       "      <td>0.9410</td>\n",
       "      <td>2.00%</td>\n",
       "      <td>1915720.0</td>\n",
       "    </tr>\n",
       "    <tr>\n",
       "      <th>14</th>\n",
       "      <td>8/8/2021</td>\n",
       "      <td>ETH-A</td>\n",
       "      <td>1.442084e+09</td>\n",
       "      <td>1.541645e+09</td>\n",
       "      <td>8/8/2021 10:39:23 AM</td>\n",
       "      <td>0.9354</td>\n",
       "      <td>2.00%</td>\n",
       "      <td>1911423.0</td>\n",
       "    </tr>\n",
       "  </tbody>\n",
       "</table>\n",
       "</div>"
      ],
      "text/plain": [
       "   timestamp_date vault_name  current_loan     loan_ceil  \\\n",
       "0       7/25/2021      ETH-A  1.398362e+09  1.485681e+09   \n",
       "1       7/26/2021      ETH-A  1.384027e+09  1.494187e+09   \n",
       "2       7/27/2021      ETH-B  3.175564e+07  4.199890e+07   \n",
       "3       7/28/2021      ETH-A  1.386380e+09  1.486358e+09   \n",
       "4       7/29/2021      ETH-A  1.386044e+09  1.486853e+09   \n",
       "5       7/30/2021      ETH-A  1.387373e+09  1.487394e+09   \n",
       "6       7/31/2021      ETH-B  3.170931e+07  4.170931e+07   \n",
       "7        8/1/2021      ETH-A  1.403172e+09  1.496167e+09   \n",
       "8        8/2/2021      ETH-A  1.406365e+09  1.500965e+09   \n",
       "9        8/3/2021      ETH-B  3.195016e+07  4.199543e+07   \n",
       "10       8/4/2021      ETH-A  1.408071e+09  1.507541e+09   \n",
       "11       8/5/2021      ETH-A  1.414157e+09  1.513952e+09   \n",
       "12       8/6/2021      ETH-A  1.423895e+09  1.524614e+09   \n",
       "13       8/7/2021      ETH-A  1.436407e+09  1.526535e+09   \n",
       "14       8/8/2021      ETH-A  1.442084e+09  1.541645e+09   \n",
       "\n",
       "                timestamp  utilization    fee  amount_coin_locked  \n",
       "0   7/25/2021 10:42:42 AM       0.9412  2.00%           2022905.0  \n",
       "1    7/26/2021 6:39:50 PM       0.9263  2.00%           2010353.0  \n",
       "2   7/27/2021 10:43:43 AM       0.7561  6.00%             26904.0  \n",
       "3   7/28/2021 10:44:55 AM       0.9327  2.00%           2011853.0  \n",
       "4    7/29/2021 2:39:53 AM       0.9322  2.00%           2011921.0  \n",
       "5   7/30/2021 10:43:04 AM       0.9328  2.00%           2011593.0  \n",
       "6    7/31/2021 2:41:39 AM       0.7602  6.00%             25950.0  \n",
       "7    8/1/2021 10:40:22 AM       0.9378  2.00%           2013028.0  \n",
       "8     8/2/2021 2:45:40 AM       0.9370  2.00%           2009682.0  \n",
       "9    8/3/2021 10:48:54 AM       0.7608  6.00%             26115.0  \n",
       "10    8/4/2021 2:39:55 AM       0.9340  2.00%           1958267.0  \n",
       "11   8/5/2021 10:48:52 AM       0.9341  2.00%           1961000.0  \n",
       "12   8/6/2021 10:39:48 AM       0.9339  2.00%           1950552.0  \n",
       "13    8/7/2021 2:41:45 AM       0.9410  2.00%           1915720.0  \n",
       "14   8/8/2021 10:39:23 AM       0.9354  2.00%           1911423.0  "
      ]
     },
     "execution_count": 20,
     "metadata": {},
     "output_type": "execute_result"
    }
   ],
   "source": [
    "data = pd.read_csv('daistats_data.csv')\n",
    "vault_df = data[data['vault_name'].isin(['ETH-A', 'ETH-B'])]\n",
    "vault_df['timestamp_date'] = vault_df['timestamp'].map(lambda x: str(x).split(' ')[0])\n",
    "vault_df= vault_df.sort_values(by = 'timestamp').groupby('timestamp_date').first().reset_index()\n",
    "#vault_df = vault_df.groupby(['vault_name','timestamp_date']).mean().reset_index(drop=False)\n",
    "#vault_df = vault_df.groupby('timestamp_date').sum().reset_index(drop=False)\n",
    "vault_df"
   ]
  },
  {
   "cell_type": "code",
   "execution_count": 16,
   "metadata": {},
   "outputs": [
    {
     "name": "stderr",
     "output_type": "stream",
     "text": [
      "2021-08-08 20:17:24.221 INFO    numexpr.utils: NumExpr defaulting to 8 threads.\n"
     ]
    },
    {
     "data": {
      "application/vnd.plotly.v1+json": {
       "config": {
        "plotlyServerURL": "https://plot.ly"
       },
       "data": [
        {
         "alignmentgroup": "True",
         "hovertemplate": "Difference: %{y}<extra></extra>",
         "legendgroup": "neg",
         "marker": {
          "color": "#F63366"
         },
         "name": "neg",
         "offsetgroup": "neg",
         "orientation": "v",
         "showlegend": false,
         "textposition": "auto",
         "type": "bar",
         "x": [
          "2021-07-26T00:00:00",
          "2021-07-30T00:00:00",
          "2021-08-02T00:00:00",
          "2021-08-03T00:00:00",
          "2021-08-04T00:00:00",
          "2021-08-06T00:00:00",
          "2021-08-07T00:00:00",
          "2021-08-08T00:00:00"
         ],
         "xaxis": "x",
         "y": [
          -12518,
          -371,
          -3346,
          -49130,
          -2285,
          -10448,
          -34832,
          -4297
         ],
         "yaxis": "y"
        },
        {
         "alignmentgroup": "True",
         "hovertemplate": "Difference: %{y}<extra></extra>",
         "legendgroup": "pos",
         "marker": {
          "color": "#2BB1BB"
         },
         "name": "pos",
         "offsetgroup": "pos",
         "orientation": "v",
         "showlegend": false,
         "textposition": "auto",
         "type": "bar",
         "x": [
          "2021-07-28T00:00:00",
          "2021-07-29T00:00:00",
          "2021-07-31T00:00:00",
          "2021-08-01T00:00:00",
          "2021-08-05T00:00:00"
         ],
         "xaxis": "x",
         "y": [
          1466,
          111,
          182,
          1253,
          2733
         ],
         "yaxis": "y"
        }
       ],
       "layout": {
        "barmode": "relative",
        "hovermode": "x",
        "legend": {
         "title": {
          "text": "diff_neg_pos"
         },
         "tracegroupgap": 0
        },
        "margin": {
         "t": 60
        },
        "template": {
         "data": {
          "bar": [
           {
            "error_x": {
             "color": "rgb(36,36,36)"
            },
            "error_y": {
             "color": "rgb(36,36,36)"
            },
            "marker": {
             "line": {
              "color": "white",
              "width": 0.5
             }
            },
            "type": "bar"
           }
          ],
          "barpolar": [
           {
            "marker": {
             "line": {
              "color": "white",
              "width": 0.5
             }
            },
            "type": "barpolar"
           }
          ],
          "carpet": [
           {
            "aaxis": {
             "endlinecolor": "rgb(36,36,36)",
             "gridcolor": "white",
             "linecolor": "white",
             "minorgridcolor": "white",
             "startlinecolor": "rgb(36,36,36)"
            },
            "baxis": {
             "endlinecolor": "rgb(36,36,36)",
             "gridcolor": "white",
             "linecolor": "white",
             "minorgridcolor": "white",
             "startlinecolor": "rgb(36,36,36)"
            },
            "type": "carpet"
           }
          ],
          "choropleth": [
           {
            "colorbar": {
             "outlinewidth": 1,
             "tickcolor": "rgb(36,36,36)",
             "ticks": "outside"
            },
            "type": "choropleth"
           }
          ],
          "contour": [
           {
            "colorbar": {
             "outlinewidth": 1,
             "tickcolor": "rgb(36,36,36)",
             "ticks": "outside"
            },
            "colorscale": [
             [
              0,
              "#440154"
             ],
             [
              0.1111111111111111,
              "#482878"
             ],
             [
              0.2222222222222222,
              "#3e4989"
             ],
             [
              0.3333333333333333,
              "#31688e"
             ],
             [
              0.4444444444444444,
              "#26828e"
             ],
             [
              0.5555555555555556,
              "#1f9e89"
             ],
             [
              0.6666666666666666,
              "#35b779"
             ],
             [
              0.7777777777777778,
              "#6ece58"
             ],
             [
              0.8888888888888888,
              "#b5de2b"
             ],
             [
              1,
              "#fde725"
             ]
            ],
            "type": "contour"
           }
          ],
          "contourcarpet": [
           {
            "colorbar": {
             "outlinewidth": 1,
             "tickcolor": "rgb(36,36,36)",
             "ticks": "outside"
            },
            "type": "contourcarpet"
           }
          ],
          "heatmap": [
           {
            "colorbar": {
             "outlinewidth": 1,
             "tickcolor": "rgb(36,36,36)",
             "ticks": "outside"
            },
            "colorscale": [
             [
              0,
              "#440154"
             ],
             [
              0.1111111111111111,
              "#482878"
             ],
             [
              0.2222222222222222,
              "#3e4989"
             ],
             [
              0.3333333333333333,
              "#31688e"
             ],
             [
              0.4444444444444444,
              "#26828e"
             ],
             [
              0.5555555555555556,
              "#1f9e89"
             ],
             [
              0.6666666666666666,
              "#35b779"
             ],
             [
              0.7777777777777778,
              "#6ece58"
             ],
             [
              0.8888888888888888,
              "#b5de2b"
             ],
             [
              1,
              "#fde725"
             ]
            ],
            "type": "heatmap"
           }
          ],
          "heatmapgl": [
           {
            "colorbar": {
             "outlinewidth": 1,
             "tickcolor": "rgb(36,36,36)",
             "ticks": "outside"
            },
            "colorscale": [
             [
              0,
              "#440154"
             ],
             [
              0.1111111111111111,
              "#482878"
             ],
             [
              0.2222222222222222,
              "#3e4989"
             ],
             [
              0.3333333333333333,
              "#31688e"
             ],
             [
              0.4444444444444444,
              "#26828e"
             ],
             [
              0.5555555555555556,
              "#1f9e89"
             ],
             [
              0.6666666666666666,
              "#35b779"
             ],
             [
              0.7777777777777778,
              "#6ece58"
             ],
             [
              0.8888888888888888,
              "#b5de2b"
             ],
             [
              1,
              "#fde725"
             ]
            ],
            "type": "heatmapgl"
           }
          ],
          "histogram": [
           {
            "marker": {
             "line": {
              "color": "white",
              "width": 0.6
             }
            },
            "type": "histogram"
           }
          ],
          "histogram2d": [
           {
            "colorbar": {
             "outlinewidth": 1,
             "tickcolor": "rgb(36,36,36)",
             "ticks": "outside"
            },
            "colorscale": [
             [
              0,
              "#440154"
             ],
             [
              0.1111111111111111,
              "#482878"
             ],
             [
              0.2222222222222222,
              "#3e4989"
             ],
             [
              0.3333333333333333,
              "#31688e"
             ],
             [
              0.4444444444444444,
              "#26828e"
             ],
             [
              0.5555555555555556,
              "#1f9e89"
             ],
             [
              0.6666666666666666,
              "#35b779"
             ],
             [
              0.7777777777777778,
              "#6ece58"
             ],
             [
              0.8888888888888888,
              "#b5de2b"
             ],
             [
              1,
              "#fde725"
             ]
            ],
            "type": "histogram2d"
           }
          ],
          "histogram2dcontour": [
           {
            "colorbar": {
             "outlinewidth": 1,
             "tickcolor": "rgb(36,36,36)",
             "ticks": "outside"
            },
            "colorscale": [
             [
              0,
              "#440154"
             ],
             [
              0.1111111111111111,
              "#482878"
             ],
             [
              0.2222222222222222,
              "#3e4989"
             ],
             [
              0.3333333333333333,
              "#31688e"
             ],
             [
              0.4444444444444444,
              "#26828e"
             ],
             [
              0.5555555555555556,
              "#1f9e89"
             ],
             [
              0.6666666666666666,
              "#35b779"
             ],
             [
              0.7777777777777778,
              "#6ece58"
             ],
             [
              0.8888888888888888,
              "#b5de2b"
             ],
             [
              1,
              "#fde725"
             ]
            ],
            "type": "histogram2dcontour"
           }
          ],
          "mesh3d": [
           {
            "colorbar": {
             "outlinewidth": 1,
             "tickcolor": "rgb(36,36,36)",
             "ticks": "outside"
            },
            "type": "mesh3d"
           }
          ],
          "parcoords": [
           {
            "line": {
             "colorbar": {
              "outlinewidth": 1,
              "tickcolor": "rgb(36,36,36)",
              "ticks": "outside"
             }
            },
            "type": "parcoords"
           }
          ],
          "pie": [
           {
            "automargin": true,
            "type": "pie"
           }
          ],
          "scatter": [
           {
            "marker": {
             "colorbar": {
              "outlinewidth": 1,
              "tickcolor": "rgb(36,36,36)",
              "ticks": "outside"
             }
            },
            "type": "scatter"
           }
          ],
          "scatter3d": [
           {
            "line": {
             "colorbar": {
              "outlinewidth": 1,
              "tickcolor": "rgb(36,36,36)",
              "ticks": "outside"
             }
            },
            "marker": {
             "colorbar": {
              "outlinewidth": 1,
              "tickcolor": "rgb(36,36,36)",
              "ticks": "outside"
             }
            },
            "type": "scatter3d"
           }
          ],
          "scattercarpet": [
           {
            "marker": {
             "colorbar": {
              "outlinewidth": 1,
              "tickcolor": "rgb(36,36,36)",
              "ticks": "outside"
             }
            },
            "type": "scattercarpet"
           }
          ],
          "scattergeo": [
           {
            "marker": {
             "colorbar": {
              "outlinewidth": 1,
              "tickcolor": "rgb(36,36,36)",
              "ticks": "outside"
             }
            },
            "type": "scattergeo"
           }
          ],
          "scattergl": [
           {
            "marker": {
             "colorbar": {
              "outlinewidth": 1,
              "tickcolor": "rgb(36,36,36)",
              "ticks": "outside"
             }
            },
            "type": "scattergl"
           }
          ],
          "scattermapbox": [
           {
            "marker": {
             "colorbar": {
              "outlinewidth": 1,
              "tickcolor": "rgb(36,36,36)",
              "ticks": "outside"
             }
            },
            "type": "scattermapbox"
           }
          ],
          "scatterpolar": [
           {
            "marker": {
             "colorbar": {
              "outlinewidth": 1,
              "tickcolor": "rgb(36,36,36)",
              "ticks": "outside"
             }
            },
            "type": "scatterpolar"
           }
          ],
          "scatterpolargl": [
           {
            "marker": {
             "colorbar": {
              "outlinewidth": 1,
              "tickcolor": "rgb(36,36,36)",
              "ticks": "outside"
             }
            },
            "type": "scatterpolargl"
           }
          ],
          "scatterternary": [
           {
            "marker": {
             "colorbar": {
              "outlinewidth": 1,
              "tickcolor": "rgb(36,36,36)",
              "ticks": "outside"
             }
            },
            "type": "scatterternary"
           }
          ],
          "surface": [
           {
            "colorbar": {
             "outlinewidth": 1,
             "tickcolor": "rgb(36,36,36)",
             "ticks": "outside"
            },
            "colorscale": [
             [
              0,
              "#440154"
             ],
             [
              0.1111111111111111,
              "#482878"
             ],
             [
              0.2222222222222222,
              "#3e4989"
             ],
             [
              0.3333333333333333,
              "#31688e"
             ],
             [
              0.4444444444444444,
              "#26828e"
             ],
             [
              0.5555555555555556,
              "#1f9e89"
             ],
             [
              0.6666666666666666,
              "#35b779"
             ],
             [
              0.7777777777777778,
              "#6ece58"
             ],
             [
              0.8888888888888888,
              "#b5de2b"
             ],
             [
              1,
              "#fde725"
             ]
            ],
            "type": "surface"
           }
          ],
          "table": [
           {
            "cells": {
             "fill": {
              "color": "rgb(237,237,237)"
             },
             "line": {
              "color": "white"
             }
            },
            "header": {
             "fill": {
              "color": "rgb(217,217,217)"
             },
             "line": {
              "color": "white"
             }
            },
            "type": "table"
           }
          ]
         },
         "layout": {
          "annotationdefaults": {
           "arrowhead": 0,
           "arrowwidth": 1
          },
          "autotypenumbers": "strict",
          "coloraxis": {
           "colorbar": {
            "outlinewidth": 1,
            "tickcolor": "rgb(36,36,36)",
            "ticks": "outside"
           }
          },
          "colorscale": {
           "diverging": [
            [
             0,
             "rgb(103,0,31)"
            ],
            [
             0.1,
             "rgb(178,24,43)"
            ],
            [
             0.2,
             "rgb(214,96,77)"
            ],
            [
             0.3,
             "rgb(244,165,130)"
            ],
            [
             0.4,
             "rgb(253,219,199)"
            ],
            [
             0.5,
             "rgb(247,247,247)"
            ],
            [
             0.6,
             "rgb(209,229,240)"
            ],
            [
             0.7,
             "rgb(146,197,222)"
            ],
            [
             0.8,
             "rgb(67,147,195)"
            ],
            [
             0.9,
             "rgb(33,102,172)"
            ],
            [
             1,
             "rgb(5,48,97)"
            ]
           ],
           "sequential": [
            [
             0,
             "#440154"
            ],
            [
             0.1111111111111111,
             "#482878"
            ],
            [
             0.2222222222222222,
             "#3e4989"
            ],
            [
             0.3333333333333333,
             "#31688e"
            ],
            [
             0.4444444444444444,
             "#26828e"
            ],
            [
             0.5555555555555556,
             "#1f9e89"
            ],
            [
             0.6666666666666666,
             "#35b779"
            ],
            [
             0.7777777777777778,
             "#6ece58"
            ],
            [
             0.8888888888888888,
             "#b5de2b"
            ],
            [
             1,
             "#fde725"
            ]
           ],
           "sequentialminus": [
            [
             0,
             "#440154"
            ],
            [
             0.1111111111111111,
             "#482878"
            ],
            [
             0.2222222222222222,
             "#3e4989"
            ],
            [
             0.3333333333333333,
             "#31688e"
            ],
            [
             0.4444444444444444,
             "#26828e"
            ],
            [
             0.5555555555555556,
             "#1f9e89"
            ],
            [
             0.6666666666666666,
             "#35b779"
            ],
            [
             0.7777777777777778,
             "#6ece58"
            ],
            [
             0.8888888888888888,
             "#b5de2b"
            ],
            [
             1,
             "#fde725"
            ]
           ]
          },
          "colorway": [
           "#1F77B4",
           "#FF7F0E",
           "#2CA02C",
           "#D62728",
           "#9467BD",
           "#8C564B",
           "#E377C2",
           "#7F7F7F",
           "#BCBD22",
           "#17BECF"
          ],
          "font": {
           "color": "rgb(36,36,36)"
          },
          "geo": {
           "bgcolor": "white",
           "lakecolor": "white",
           "landcolor": "white",
           "showlakes": true,
           "showland": true,
           "subunitcolor": "white"
          },
          "hoverlabel": {
           "align": "left"
          },
          "hovermode": "closest",
          "mapbox": {
           "style": "light"
          },
          "paper_bgcolor": "white",
          "plot_bgcolor": "white",
          "polar": {
           "angularaxis": {
            "gridcolor": "rgb(232,232,232)",
            "linecolor": "rgb(36,36,36)",
            "showgrid": false,
            "showline": true,
            "ticks": "outside"
           },
           "bgcolor": "white",
           "radialaxis": {
            "gridcolor": "rgb(232,232,232)",
            "linecolor": "rgb(36,36,36)",
            "showgrid": false,
            "showline": true,
            "ticks": "outside"
           }
          },
          "scene": {
           "xaxis": {
            "backgroundcolor": "white",
            "gridcolor": "rgb(232,232,232)",
            "gridwidth": 2,
            "linecolor": "rgb(36,36,36)",
            "showbackground": true,
            "showgrid": false,
            "showline": true,
            "ticks": "outside",
            "zeroline": false,
            "zerolinecolor": "rgb(36,36,36)"
           },
           "yaxis": {
            "backgroundcolor": "white",
            "gridcolor": "rgb(232,232,232)",
            "gridwidth": 2,
            "linecolor": "rgb(36,36,36)",
            "showbackground": true,
            "showgrid": false,
            "showline": true,
            "ticks": "outside",
            "zeroline": false,
            "zerolinecolor": "rgb(36,36,36)"
           },
           "zaxis": {
            "backgroundcolor": "white",
            "gridcolor": "rgb(232,232,232)",
            "gridwidth": 2,
            "linecolor": "rgb(36,36,36)",
            "showbackground": true,
            "showgrid": false,
            "showline": true,
            "ticks": "outside",
            "zeroline": false,
            "zerolinecolor": "rgb(36,36,36)"
           }
          },
          "shapedefaults": {
           "fillcolor": "black",
           "line": {
            "width": 0
           },
           "opacity": 0.3
          },
          "ternary": {
           "aaxis": {
            "gridcolor": "rgb(232,232,232)",
            "linecolor": "rgb(36,36,36)",
            "showgrid": false,
            "showline": true,
            "ticks": "outside"
           },
           "baxis": {
            "gridcolor": "rgb(232,232,232)",
            "linecolor": "rgb(36,36,36)",
            "showgrid": false,
            "showline": true,
            "ticks": "outside"
           },
           "bgcolor": "white",
           "caxis": {
            "gridcolor": "rgb(232,232,232)",
            "linecolor": "rgb(36,36,36)",
            "showgrid": false,
            "showline": true,
            "ticks": "outside"
           }
          },
          "title": {
           "x": 0.05
          },
          "xaxis": {
           "automargin": true,
           "gridcolor": "rgb(232,232,232)",
           "linecolor": "rgb(36,36,36)",
           "showgrid": false,
           "showline": true,
           "ticks": "outside",
           "title": {
            "standoff": 15
           },
           "zeroline": false,
           "zerolinecolor": "rgb(36,36,36)"
          },
          "yaxis": {
           "automargin": true,
           "gridcolor": "rgb(232,232,232)",
           "linecolor": "rgb(36,36,36)",
           "showgrid": false,
           "showline": true,
           "ticks": "outside",
           "title": {
            "standoff": 15
           },
           "zeroline": false,
           "zerolinecolor": "rgb(36,36,36)"
          }
         }
        },
        "title": {
         "text": "<b><b>"
        },
        "xaxis": {
         "anchor": "y",
         "domain": [
          0,
          1
         ],
         "title": {
          "text": ""
         },
         "type": "date"
        },
        "yaxis": {
         "anchor": "x",
         "domain": [
          0,
          1
         ],
         "title": {
          "text": "Amount of coin locked difference"
         }
        }
       }
      },
      "text/html": [
       "<div>                            <div id=\"e269fadb-199c-4ba6-a611-f0070c588263\" class=\"plotly-graph-div\" style=\"height:525px; width:100%;\"></div>            <script type=\"text/javascript\">                require([\"plotly\"], function(Plotly) {                    window.PLOTLYENV=window.PLOTLYENV || {};                                    if (document.getElementById(\"e269fadb-199c-4ba6-a611-f0070c588263\")) {                    Plotly.newPlot(                        \"e269fadb-199c-4ba6-a611-f0070c588263\",                        [{\"alignmentgroup\": \"True\", \"hovertemplate\": \"Difference: %{y}<extra></extra>\", \"legendgroup\": \"neg\", \"marker\": {\"color\": \"#F63366\"}, \"name\": \"neg\", \"offsetgroup\": \"neg\", \"orientation\": \"v\", \"showlegend\": false, \"textposition\": \"auto\", \"type\": \"bar\", \"x\": [\"2021-07-26T00:00:00\", \"2021-07-30T00:00:00\", \"2021-08-02T00:00:00\", \"2021-08-03T00:00:00\", \"2021-08-04T00:00:00\", \"2021-08-06T00:00:00\", \"2021-08-07T00:00:00\", \"2021-08-08T00:00:00\"], \"xaxis\": \"x\", \"y\": [-12518.0, -371.0, -3346.0, -49130.0, -2285.0, -10448.0, -34832.0, -4297.0], \"yaxis\": \"y\"}, {\"alignmentgroup\": \"True\", \"hovertemplate\": \"Difference: %{y}<extra></extra>\", \"legendgroup\": \"pos\", \"marker\": {\"color\": \"#2BB1BB\"}, \"name\": \"pos\", \"offsetgroup\": \"pos\", \"orientation\": \"v\", \"showlegend\": false, \"textposition\": \"auto\", \"type\": \"bar\", \"x\": [\"2021-07-28T00:00:00\", \"2021-07-29T00:00:00\", \"2021-07-31T00:00:00\", \"2021-08-01T00:00:00\", \"2021-08-05T00:00:00\"], \"xaxis\": \"x\", \"y\": [1466.0, 111.0, 182.0, 1253.0, 2733.0], \"yaxis\": \"y\"}],                        {\"barmode\": \"relative\", \"hovermode\": \"x\", \"legend\": {\"title\": {\"text\": \"diff_neg_pos\"}, \"tracegroupgap\": 0}, \"margin\": {\"t\": 60}, \"template\": {\"data\": {\"bar\": [{\"error_x\": {\"color\": \"rgb(36,36,36)\"}, \"error_y\": {\"color\": \"rgb(36,36,36)\"}, \"marker\": {\"line\": {\"color\": \"white\", \"width\": 0.5}}, \"type\": \"bar\"}], \"barpolar\": [{\"marker\": {\"line\": {\"color\": \"white\", \"width\": 0.5}}, \"type\": \"barpolar\"}], \"carpet\": [{\"aaxis\": {\"endlinecolor\": \"rgb(36,36,36)\", \"gridcolor\": \"white\", \"linecolor\": \"white\", \"minorgridcolor\": \"white\", \"startlinecolor\": \"rgb(36,36,36)\"}, \"baxis\": {\"endlinecolor\": \"rgb(36,36,36)\", \"gridcolor\": \"white\", \"linecolor\": \"white\", \"minorgridcolor\": \"white\", \"startlinecolor\": \"rgb(36,36,36)\"}, \"type\": \"carpet\"}], \"choropleth\": [{\"colorbar\": {\"outlinewidth\": 1, \"tickcolor\": \"rgb(36,36,36)\", \"ticks\": \"outside\"}, \"type\": \"choropleth\"}], \"contour\": [{\"colorbar\": {\"outlinewidth\": 1, \"tickcolor\": \"rgb(36,36,36)\", \"ticks\": \"outside\"}, \"colorscale\": [[0.0, \"#440154\"], [0.1111111111111111, \"#482878\"], [0.2222222222222222, \"#3e4989\"], [0.3333333333333333, \"#31688e\"], [0.4444444444444444, \"#26828e\"], [0.5555555555555556, \"#1f9e89\"], [0.6666666666666666, \"#35b779\"], [0.7777777777777778, \"#6ece58\"], [0.8888888888888888, \"#b5de2b\"], [1.0, \"#fde725\"]], \"type\": \"contour\"}], \"contourcarpet\": [{\"colorbar\": {\"outlinewidth\": 1, \"tickcolor\": \"rgb(36,36,36)\", \"ticks\": \"outside\"}, \"type\": \"contourcarpet\"}], \"heatmap\": [{\"colorbar\": {\"outlinewidth\": 1, \"tickcolor\": \"rgb(36,36,36)\", \"ticks\": \"outside\"}, \"colorscale\": [[0.0, \"#440154\"], [0.1111111111111111, \"#482878\"], [0.2222222222222222, \"#3e4989\"], [0.3333333333333333, \"#31688e\"], [0.4444444444444444, \"#26828e\"], [0.5555555555555556, \"#1f9e89\"], [0.6666666666666666, \"#35b779\"], [0.7777777777777778, \"#6ece58\"], [0.8888888888888888, \"#b5de2b\"], [1.0, \"#fde725\"]], \"type\": \"heatmap\"}], \"heatmapgl\": [{\"colorbar\": {\"outlinewidth\": 1, \"tickcolor\": \"rgb(36,36,36)\", \"ticks\": \"outside\"}, \"colorscale\": [[0.0, \"#440154\"], [0.1111111111111111, \"#482878\"], [0.2222222222222222, \"#3e4989\"], [0.3333333333333333, \"#31688e\"], [0.4444444444444444, \"#26828e\"], [0.5555555555555556, \"#1f9e89\"], [0.6666666666666666, \"#35b779\"], [0.7777777777777778, \"#6ece58\"], [0.8888888888888888, \"#b5de2b\"], [1.0, \"#fde725\"]], \"type\": \"heatmapgl\"}], \"histogram\": [{\"marker\": {\"line\": {\"color\": \"white\", \"width\": 0.6}}, \"type\": \"histogram\"}], \"histogram2d\": [{\"colorbar\": {\"outlinewidth\": 1, \"tickcolor\": \"rgb(36,36,36)\", \"ticks\": \"outside\"}, \"colorscale\": [[0.0, \"#440154\"], [0.1111111111111111, \"#482878\"], [0.2222222222222222, \"#3e4989\"], [0.3333333333333333, \"#31688e\"], [0.4444444444444444, \"#26828e\"], [0.5555555555555556, \"#1f9e89\"], [0.6666666666666666, \"#35b779\"], [0.7777777777777778, \"#6ece58\"], [0.8888888888888888, \"#b5de2b\"], [1.0, \"#fde725\"]], \"type\": \"histogram2d\"}], \"histogram2dcontour\": [{\"colorbar\": {\"outlinewidth\": 1, \"tickcolor\": \"rgb(36,36,36)\", \"ticks\": \"outside\"}, \"colorscale\": [[0.0, \"#440154\"], [0.1111111111111111, \"#482878\"], [0.2222222222222222, \"#3e4989\"], [0.3333333333333333, \"#31688e\"], [0.4444444444444444, \"#26828e\"], [0.5555555555555556, \"#1f9e89\"], [0.6666666666666666, \"#35b779\"], [0.7777777777777778, \"#6ece58\"], [0.8888888888888888, \"#b5de2b\"], [1.0, \"#fde725\"]], \"type\": \"histogram2dcontour\"}], \"mesh3d\": [{\"colorbar\": {\"outlinewidth\": 1, \"tickcolor\": \"rgb(36,36,36)\", \"ticks\": \"outside\"}, \"type\": \"mesh3d\"}], \"parcoords\": [{\"line\": {\"colorbar\": {\"outlinewidth\": 1, \"tickcolor\": \"rgb(36,36,36)\", \"ticks\": \"outside\"}}, \"type\": \"parcoords\"}], \"pie\": [{\"automargin\": true, \"type\": \"pie\"}], \"scatter\": [{\"marker\": {\"colorbar\": {\"outlinewidth\": 1, \"tickcolor\": \"rgb(36,36,36)\", \"ticks\": \"outside\"}}, \"type\": \"scatter\"}], \"scatter3d\": [{\"line\": {\"colorbar\": {\"outlinewidth\": 1, \"tickcolor\": \"rgb(36,36,36)\", \"ticks\": \"outside\"}}, \"marker\": {\"colorbar\": {\"outlinewidth\": 1, \"tickcolor\": \"rgb(36,36,36)\", \"ticks\": \"outside\"}}, \"type\": \"scatter3d\"}], \"scattercarpet\": [{\"marker\": {\"colorbar\": {\"outlinewidth\": 1, \"tickcolor\": \"rgb(36,36,36)\", \"ticks\": \"outside\"}}, \"type\": \"scattercarpet\"}], \"scattergeo\": [{\"marker\": {\"colorbar\": {\"outlinewidth\": 1, \"tickcolor\": \"rgb(36,36,36)\", \"ticks\": \"outside\"}}, \"type\": \"scattergeo\"}], \"scattergl\": [{\"marker\": {\"colorbar\": {\"outlinewidth\": 1, \"tickcolor\": \"rgb(36,36,36)\", \"ticks\": \"outside\"}}, \"type\": \"scattergl\"}], \"scattermapbox\": [{\"marker\": {\"colorbar\": {\"outlinewidth\": 1, \"tickcolor\": \"rgb(36,36,36)\", \"ticks\": \"outside\"}}, \"type\": \"scattermapbox\"}], \"scatterpolar\": [{\"marker\": {\"colorbar\": {\"outlinewidth\": 1, \"tickcolor\": \"rgb(36,36,36)\", \"ticks\": \"outside\"}}, \"type\": \"scatterpolar\"}], \"scatterpolargl\": [{\"marker\": {\"colorbar\": {\"outlinewidth\": 1, \"tickcolor\": \"rgb(36,36,36)\", \"ticks\": \"outside\"}}, \"type\": \"scatterpolargl\"}], \"scatterternary\": [{\"marker\": {\"colorbar\": {\"outlinewidth\": 1, \"tickcolor\": \"rgb(36,36,36)\", \"ticks\": \"outside\"}}, \"type\": \"scatterternary\"}], \"surface\": [{\"colorbar\": {\"outlinewidth\": 1, \"tickcolor\": \"rgb(36,36,36)\", \"ticks\": \"outside\"}, \"colorscale\": [[0.0, \"#440154\"], [0.1111111111111111, \"#482878\"], [0.2222222222222222, \"#3e4989\"], [0.3333333333333333, \"#31688e\"], [0.4444444444444444, \"#26828e\"], [0.5555555555555556, \"#1f9e89\"], [0.6666666666666666, \"#35b779\"], [0.7777777777777778, \"#6ece58\"], [0.8888888888888888, \"#b5de2b\"], [1.0, \"#fde725\"]], \"type\": \"surface\"}], \"table\": [{\"cells\": {\"fill\": {\"color\": \"rgb(237,237,237)\"}, \"line\": {\"color\": \"white\"}}, \"header\": {\"fill\": {\"color\": \"rgb(217,217,217)\"}, \"line\": {\"color\": \"white\"}}, \"type\": \"table\"}]}, \"layout\": {\"annotationdefaults\": {\"arrowhead\": 0, \"arrowwidth\": 1}, \"autotypenumbers\": \"strict\", \"coloraxis\": {\"colorbar\": {\"outlinewidth\": 1, \"tickcolor\": \"rgb(36,36,36)\", \"ticks\": \"outside\"}}, \"colorscale\": {\"diverging\": [[0.0, \"rgb(103,0,31)\"], [0.1, \"rgb(178,24,43)\"], [0.2, \"rgb(214,96,77)\"], [0.3, \"rgb(244,165,130)\"], [0.4, \"rgb(253,219,199)\"], [0.5, \"rgb(247,247,247)\"], [0.6, \"rgb(209,229,240)\"], [0.7, \"rgb(146,197,222)\"], [0.8, \"rgb(67,147,195)\"], [0.9, \"rgb(33,102,172)\"], [1.0, \"rgb(5,48,97)\"]], \"sequential\": [[0.0, \"#440154\"], [0.1111111111111111, \"#482878\"], [0.2222222222222222, \"#3e4989\"], [0.3333333333333333, \"#31688e\"], [0.4444444444444444, \"#26828e\"], [0.5555555555555556, \"#1f9e89\"], [0.6666666666666666, \"#35b779\"], [0.7777777777777778, \"#6ece58\"], [0.8888888888888888, \"#b5de2b\"], [1.0, \"#fde725\"]], \"sequentialminus\": [[0.0, \"#440154\"], [0.1111111111111111, \"#482878\"], [0.2222222222222222, \"#3e4989\"], [0.3333333333333333, \"#31688e\"], [0.4444444444444444, \"#26828e\"], [0.5555555555555556, \"#1f9e89\"], [0.6666666666666666, \"#35b779\"], [0.7777777777777778, \"#6ece58\"], [0.8888888888888888, \"#b5de2b\"], [1.0, \"#fde725\"]]}, \"colorway\": [\"#1F77B4\", \"#FF7F0E\", \"#2CA02C\", \"#D62728\", \"#9467BD\", \"#8C564B\", \"#E377C2\", \"#7F7F7F\", \"#BCBD22\", \"#17BECF\"], \"font\": {\"color\": \"rgb(36,36,36)\"}, \"geo\": {\"bgcolor\": \"white\", \"lakecolor\": \"white\", \"landcolor\": \"white\", \"showlakes\": true, \"showland\": true, \"subunitcolor\": \"white\"}, \"hoverlabel\": {\"align\": \"left\"}, \"hovermode\": \"closest\", \"mapbox\": {\"style\": \"light\"}, \"paper_bgcolor\": \"white\", \"plot_bgcolor\": \"white\", \"polar\": {\"angularaxis\": {\"gridcolor\": \"rgb(232,232,232)\", \"linecolor\": \"rgb(36,36,36)\", \"showgrid\": false, \"showline\": true, \"ticks\": \"outside\"}, \"bgcolor\": \"white\", \"radialaxis\": {\"gridcolor\": \"rgb(232,232,232)\", \"linecolor\": \"rgb(36,36,36)\", \"showgrid\": false, \"showline\": true, \"ticks\": \"outside\"}}, \"scene\": {\"xaxis\": {\"backgroundcolor\": \"white\", \"gridcolor\": \"rgb(232,232,232)\", \"gridwidth\": 2, \"linecolor\": \"rgb(36,36,36)\", \"showbackground\": true, \"showgrid\": false, \"showline\": true, \"ticks\": \"outside\", \"zeroline\": false, \"zerolinecolor\": \"rgb(36,36,36)\"}, \"yaxis\": {\"backgroundcolor\": \"white\", \"gridcolor\": \"rgb(232,232,232)\", \"gridwidth\": 2, \"linecolor\": \"rgb(36,36,36)\", \"showbackground\": true, \"showgrid\": false, \"showline\": true, \"ticks\": \"outside\", \"zeroline\": false, \"zerolinecolor\": \"rgb(36,36,36)\"}, \"zaxis\": {\"backgroundcolor\": \"white\", \"gridcolor\": \"rgb(232,232,232)\", \"gridwidth\": 2, \"linecolor\": \"rgb(36,36,36)\", \"showbackground\": true, \"showgrid\": false, \"showline\": true, \"ticks\": \"outside\", \"zeroline\": false, \"zerolinecolor\": \"rgb(36,36,36)\"}}, \"shapedefaults\": {\"fillcolor\": \"black\", \"line\": {\"width\": 0}, \"opacity\": 0.3}, \"ternary\": {\"aaxis\": {\"gridcolor\": \"rgb(232,232,232)\", \"linecolor\": \"rgb(36,36,36)\", \"showgrid\": false, \"showline\": true, \"ticks\": \"outside\"}, \"baxis\": {\"gridcolor\": \"rgb(232,232,232)\", \"linecolor\": \"rgb(36,36,36)\", \"showgrid\": false, \"showline\": true, \"ticks\": \"outside\"}, \"bgcolor\": \"white\", \"caxis\": {\"gridcolor\": \"rgb(232,232,232)\", \"linecolor\": \"rgb(36,36,36)\", \"showgrid\": false, \"showline\": true, \"ticks\": \"outside\"}}, \"title\": {\"x\": 0.05}, \"xaxis\": {\"automargin\": true, \"gridcolor\": \"rgb(232,232,232)\", \"linecolor\": \"rgb(36,36,36)\", \"showgrid\": false, \"showline\": true, \"ticks\": \"outside\", \"title\": {\"standoff\": 15}, \"zeroline\": false, \"zerolinecolor\": \"rgb(36,36,36)\"}, \"yaxis\": {\"automargin\": true, \"gridcolor\": \"rgb(232,232,232)\", \"linecolor\": \"rgb(36,36,36)\", \"showgrid\": false, \"showline\": true, \"ticks\": \"outside\", \"title\": {\"standoff\": 15}, \"zeroline\": false, \"zerolinecolor\": \"rgb(36,36,36)\"}}}, \"title\": {\"text\": \"<b><b>\"}, \"xaxis\": {\"anchor\": \"y\", \"domain\": [0.0, 1.0], \"title\": {\"text\": \"\"}, \"type\": \"date\"}, \"yaxis\": {\"anchor\": \"x\", \"domain\": [0.0, 1.0], \"title\": {\"text\": \"Amount of coin locked difference\"}}},                        {\"responsive\": true}                    ).then(function(){\n",
       "                            \n",
       "var gd = document.getElementById('e269fadb-199c-4ba6-a611-f0070c588263');\n",
       "var x = new MutationObserver(function (mutations, observer) {{\n",
       "        var display = window.getComputedStyle(gd).display;\n",
       "        if (!display || display === 'none') {{\n",
       "            console.log([gd, 'removed!']);\n",
       "            Plotly.purge(gd);\n",
       "            observer.disconnect();\n",
       "        }}\n",
       "}});\n",
       "\n",
       "// Listen for the removal of the full notebook cells\n",
       "var notebookContainer = gd.closest('#notebook-container');\n",
       "if (notebookContainer) {{\n",
       "    x.observe(notebookContainer, {childList: true});\n",
       "}}\n",
       "\n",
       "// Listen for the clearing of the current output cell\n",
       "var outputEl = gd.closest('.output');\n",
       "if (outputEl) {{\n",
       "    x.observe(outputEl, {childList: true});\n",
       "}}\n",
       "\n",
       "                        })                };                });            </script>        </div>"
      ]
     },
     "metadata": {},
     "output_type": "display_data"
    }
   ],
   "source": [
    "from utils import *\n",
    "\n",
    "fig2 = coin_diff(\n",
    "    vault_df, chart_title = '',\n",
    "    fig_name=\"ETHA_daily_diff.html\",\n",
    "    file_save=False\n",
    ")\n",
    "fig2.show()"
   ]
  },
  {
   "cell_type": "code",
   "execution_count": null,
   "metadata": {},
   "outputs": [],
   "source": []
  },
  {
   "cell_type": "code",
   "execution_count": null,
   "metadata": {},
   "outputs": [],
   "source": []
  }
 ],
 "metadata": {
  "kernelspec": {
   "display_name": "Python 3",
   "language": "python",
   "name": "python3"
  },
  "language_info": {
   "codemirror_mode": {
    "name": "ipython",
    "version": 3
   },
   "file_extension": ".py",
   "mimetype": "text/x-python",
   "name": "python",
   "nbconvert_exporter": "python",
   "pygments_lexer": "ipython3",
   "version": "3.8.10"
  }
 },
 "nbformat": 4,
 "nbformat_minor": 4
}
